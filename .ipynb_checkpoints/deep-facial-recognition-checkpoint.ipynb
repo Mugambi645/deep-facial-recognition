{
 "cells": [
  {
   "cell_type": "markdown",
   "id": "fc7c2f15-e178-4844-b982-0658726d3256",
   "metadata": {},
   "source": [
    "<h2>Deep Facial Recognition with Siamese Network</h2>"
   ]
  },
  {
   "cell_type": "markdown",
   "id": "c1794147-941c-49f7-be19-a34a94262233",
   "metadata": {},
   "source": [
    "<h3>1.1 Project Definition</h3>"
   ]
  },
  {
   "cell_type": "markdown",
   "id": "ceef613e-af2a-41f6-ae51-4d7fa31921ee",
   "metadata": {},
   "source": [
    "<h3>1.2 Import Dependencies</h3>"
   ]
  },
  {
   "cell_type": "code",
   "execution_count": 4,
   "id": "9b68888e-c846-4202-a250-4bea5d3a70eb",
   "metadata": {},
   "outputs": [],
   "source": [
    "# import dependencies\n",
    "import cv2\n",
    "import os\n",
    "import random\n",
    "import numpy as np\n",
    "from matplotlib import pyplot as plt"
   ]
  },
  {
   "cell_type": "code",
   "execution_count": 5,
   "id": "7d659ccc-deda-42a4-8d1a-57f1f7521e77",
   "metadata": {},
   "outputs": [],
   "source": [
    "# import tensorflow dependencies\n",
    "from tensorflow.keras.models import Model\n",
    "from tensorflow.keras.layers import Layer, Conv2D, Dense, MaxPooling2D, Input, Flatten\n",
    "import tensorflow as tf"
   ]
  },
  {
   "cell_type": "markdown",
   "id": "1778635c-9532-443c-b177-80e4ee9993b1",
   "metadata": {},
   "source": [
    "<h3>1.3 Set GPU Growth</h3>\n"
   ]
  },
  {
   "cell_type": "code",
   "execution_count": 6,
   "id": "d72e3b43-d4cd-4204-81a7-b43fa7015f9a",
   "metadata": {},
   "outputs": [],
   "source": [
    "# Avoid out of memory errors by setting GPU memory consumption Growth\n",
    "# only set on GPU machine\n",
    "#gpus = tf.config.experimental.list_physical_devices(\"GPU\")\n",
    "#for gpu in gpus:\n",
    "    #tf.config.experimental.set_memory_growth(gpu, True)"
   ]
  },
  {
   "cell_type": "markdown",
   "id": "f70187b0-63a1-46ba-a9d8-32ab0bc6dedd",
   "metadata": {},
   "source": [
    "<h3>1.4 Create Folder Structures</h3>\n"
   ]
  },
  {
   "cell_type": "code",
   "execution_count": 7,
   "id": "c0dc6702-9632-481c-8dee-1901da7dd206",
   "metadata": {},
   "outputs": [],
   "source": [
    "# Setup paths\n",
    "POS_PATH = os.path.join(\"data\", \"positive\")\n",
    "NEG_PATH = os.path.join(\"data\", \"negative\")\n",
    "ANC_PATH = os.path.join(\"data\", \"anchor\")"
   ]
  },
  {
   "cell_type": "code",
   "execution_count": 9,
   "id": "a932420f-82da-4239-ac75-c7b553a3ed7d",
   "metadata": {},
   "outputs": [],
   "source": [
    "# Make directories\n",
    "os.makedirs(POS_PATH)\n",
    "os.makedirs(NEG_PATH)\n",
    "os.makedirs(ANC_PATH)"
   ]
  },
  {
   "cell_type": "code",
   "execution_count": null,
   "id": "7600819a-f082-4d33-9361-6fd5380ba948",
   "metadata": {},
   "outputs": [],
   "source": []
  }
 ],
 "metadata": {
  "kernelspec": {
   "display_name": "Python 3 (ipykernel)",
   "language": "python",
   "name": "python3"
  },
  "language_info": {
   "codemirror_mode": {
    "name": "ipython",
    "version": 3
   },
   "file_extension": ".py",
   "mimetype": "text/x-python",
   "name": "python",
   "nbconvert_exporter": "python",
   "pygments_lexer": "ipython3",
   "version": "3.12.6"
  }
 },
 "nbformat": 4,
 "nbformat_minor": 5
}
