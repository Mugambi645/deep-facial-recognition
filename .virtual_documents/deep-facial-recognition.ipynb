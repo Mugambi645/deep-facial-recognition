


!pip install tensorflow==2.17.1  opencv-python matplotlib numpy



